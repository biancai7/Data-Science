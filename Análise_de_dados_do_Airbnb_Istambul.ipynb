{
  "nbformat": 4,
  "nbformat_minor": 0,
  "metadata": {
    "colab": {
      "name": "Análise de dados do Airbnb - Istambul",
      "provenance": [],
      "collapsed_sections": [],
      "toc_visible": true,
      "authorship_tag": "ABX9TyNeJ+FNrblbxuPnhxu2h12E",
      "include_colab_link": true
    },
    "kernelspec": {
      "name": "python3",
      "display_name": "Python 3"
    },
    "language_info": {
      "name": "python"
    }
  },
  "cells": [
    {
      "cell_type": "markdown",
      "metadata": {
        "id": "view-in-github",
        "colab_type": "text"
      },
      "source": [
        "<a href=\"https://colab.research.google.com/github/biancai7/Data-Science/blob/main/An%C3%A1lise_de_dados_do_Airbnb_Istambul.ipynb\" target=\"_parent\"><img src=\"https://colab.research.google.com/assets/colab-badge.svg\" alt=\"Open In Colab\"/></a>"
      ]
    },
    {
      "cell_type": "markdown",
      "source": [
        "<img alt=\"Colaboratory logo\" width=\"15%\" src=\"https://raw.githubusercontent.com/carlosfab/escola-data-science/master/img/novo_logo_bg_claro.png\">\n",
        "\n",
        "#### **Data Science na Prática 3.0**\n",
        "*by [sigmoidal.ai](https://sigmoidal.ai)*\n",
        "\n",
        "---\n",
        "\n",
        "# Análise dos Dados do Airbnb - *Sua Cidade*\n",
        "\n",
        "O [Airbnb](https://www.airbnb.com.br/) já é considerado como sendo a **maior empresa hoteleira da atualidade**. Ah, o detalhe é que ele **não possui nenhum hotel**!\n",
        "\n",
        "Conectando pessoas que querem viajar (e se hospedar) com anfitriões que querem alugar seus imóveis de maneira prática, o Airbnb fornece uma plataforma inovadora para tornar essa hospedagem alternativa.\n",
        "\n",
        "No final de 2018, a Startup fundada 10 anos atrás, já havia **hospedado mais de 300 milhões** de pessoas ao redor de todo o mundo, desafiando as redes hoteleiras tradicionais.\n",
        "\n",
        "Uma das iniciativas do Airbnb é disponibilizar dados do site, para algumas das principais cidades do mundo. Por meio do portal [Inside Airbnb](http://insideairbnb.com/get-the-data.html), é possível baixar uma grande quantidade de dados para desenvolver projetos e soluções de *Data Science*.\n",
        "\n",
        "<center><img alt=\"Analisando Airbnb\" width=\"10%\" src=\"https://www.area360.com.au/wp-content/uploads/2017/09/airbnb-logo.jpg\"></center>\n",
        "\n",
        "**Neste *notebook*, iremos analisar os dados referentes à cidade de Istambul, e ver quais insights podem ser extraídos a partir de dados brutos.**"
      ],
      "metadata": {
        "id": "D32MlVg0HfGC"
      }
    },
    {
      "cell_type": "code",
      "execution_count": 32,
      "metadata": {
        "id": "pp44vNtLCZD2"
      },
      "outputs": [],
      "source": [
        "#importando os pacotes\n",
        "import pandas as pd\n",
        "import seaborn as sns\n",
        "import matplotlib.pyplot as plt \n",
        "\n",
        "%matplotlib inline"
      ]
    },
    {
      "cell_type": "code",
      "source": [
        "#importando os dados e criando um DataFrame\n",
        "df=pd.read_csv(\"http://data.insideairbnb.com/turkey/marmara/istanbul/2021-10-29/visualisations/listings.csv\")\n",
        "\n"
      ],
      "metadata": {
        "id": "eznig6vpFayK"
      },
      "execution_count": 33,
      "outputs": []
    },
    {
      "cell_type": "markdown",
      "source": [
        "# Análise dos dados\n",
        "\n",
        "Para entender melhor do que se trata os dados abaixo temos um dicionário das variáveis\n",
        "\n",
        "###Dicionario de Variáveis \n",
        "\n",
        "* id - número de id gerado para identificar o imóvel\n",
        "* name - nome da propriedade anunciada\n",
        "* host_id - número de id do proprietário (anfitrião) da propriedade\n",
        "* host_name - Nome do anfitrião\n",
        "* neighbourhood_group - esta coluna não contém nenhum valor válido\n",
        "* neighbourhood - nome do bairro\n",
        "* latitude - coordenada da latitude da propriedade\n",
        "* longitude - coordenada da longitude da propriedade\n",
        "* room_type - informa o tipo de quarto que é oferecido\n",
        "* price - preço para alugar o imóvel\n",
        "* minimum_nights - quantidade mínima de noites para reservar\n",
        "* number_of_reviews - número de reviews que a propriedade possui\n",
        "* last_review - data do último review\n",
        "* reviews_per_month - quantidade de reviews por mês\n",
        "* calculated_host_listings_count - quantidade de imóveis do mesmo anfitrião\n",
        "* availability_365 - número de dias de disponibilidade dentro de 365 dias"
      ],
      "metadata": {
        "id": "jgHONu_QGWdb"
      }
    },
    {
      "cell_type": "code",
      "source": [
        "#mostrar as 5 primeiras entradas\n",
        "df.head()"
      ],
      "metadata": {
        "colab": {
          "base_uri": "https://localhost:8080/",
          "height": 506
        },
        "id": "9lmkLiITHIMD",
        "outputId": "cb6e5412-92c5-4fb4-d233-d655517f64bf"
      },
      "execution_count": 34,
      "outputs": [
        {
          "output_type": "execute_result",
          "data": {
            "text/html": [
              "\n",
              "  <div id=\"df-c3d3ae06-e00f-4763-b907-48ca51aa53f3\">\n",
              "    <div class=\"colab-df-container\">\n",
              "      <div>\n",
              "<style scoped>\n",
              "    .dataframe tbody tr th:only-of-type {\n",
              "        vertical-align: middle;\n",
              "    }\n",
              "\n",
              "    .dataframe tbody tr th {\n",
              "        vertical-align: top;\n",
              "    }\n",
              "\n",
              "    .dataframe thead th {\n",
              "        text-align: right;\n",
              "    }\n",
              "</style>\n",
              "<table border=\"1\" class=\"dataframe\">\n",
              "  <thead>\n",
              "    <tr style=\"text-align: right;\">\n",
              "      <th></th>\n",
              "      <th>id</th>\n",
              "      <th>name</th>\n",
              "      <th>host_id</th>\n",
              "      <th>host_name</th>\n",
              "      <th>neighbourhood_group</th>\n",
              "      <th>neighbourhood</th>\n",
              "      <th>latitude</th>\n",
              "      <th>longitude</th>\n",
              "      <th>room_type</th>\n",
              "      <th>price</th>\n",
              "      <th>minimum_nights</th>\n",
              "      <th>number_of_reviews</th>\n",
              "      <th>last_review</th>\n",
              "      <th>reviews_per_month</th>\n",
              "      <th>calculated_host_listings_count</th>\n",
              "      <th>availability_365</th>\n",
              "      <th>number_of_reviews_ltm</th>\n",
              "      <th>license</th>\n",
              "    </tr>\n",
              "  </thead>\n",
              "  <tbody>\n",
              "    <tr>\n",
              "      <th>0</th>\n",
              "      <td>20815</td>\n",
              "      <td>The Bosphorus from The Comfy Hill</td>\n",
              "      <td>78838</td>\n",
              "      <td>Gülder</td>\n",
              "      <td>NaN</td>\n",
              "      <td>Besiktas</td>\n",
              "      <td>41.06984</td>\n",
              "      <td>29.04545</td>\n",
              "      <td>Entire home/apt</td>\n",
              "      <td>1149</td>\n",
              "      <td>365</td>\n",
              "      <td>41</td>\n",
              "      <td>2017-08-04</td>\n",
              "      <td>0.54</td>\n",
              "      <td>2</td>\n",
              "      <td>363</td>\n",
              "      <td>0</td>\n",
              "      <td>NaN</td>\n",
              "    </tr>\n",
              "    <tr>\n",
              "      <th>1</th>\n",
              "      <td>27271</td>\n",
              "      <td>Lovely apartment in perfect location</td>\n",
              "      <td>117026</td>\n",
              "      <td>Mutlu</td>\n",
              "      <td>NaN</td>\n",
              "      <td>Beyoglu</td>\n",
              "      <td>41.03254</td>\n",
              "      <td>28.98153</td>\n",
              "      <td>Entire home/apt</td>\n",
              "      <td>389</td>\n",
              "      <td>30</td>\n",
              "      <td>2</td>\n",
              "      <td>2018-05-04</td>\n",
              "      <td>0.02</td>\n",
              "      <td>1</td>\n",
              "      <td>332</td>\n",
              "      <td>0</td>\n",
              "      <td>NaN</td>\n",
              "    </tr>\n",
              "    <tr>\n",
              "      <th>2</th>\n",
              "      <td>27831</td>\n",
              "      <td>Large, clean, spacious apartment</td>\n",
              "      <td>120067</td>\n",
              "      <td>Defne</td>\n",
              "      <td>NaN</td>\n",
              "      <td>Besiktas</td>\n",
              "      <td>41.06590</td>\n",
              "      <td>29.00502</td>\n",
              "      <td>Entire home/apt</td>\n",
              "      <td>846</td>\n",
              "      <td>1</td>\n",
              "      <td>0</td>\n",
              "      <td>NaN</td>\n",
              "      <td>NaN</td>\n",
              "      <td>1</td>\n",
              "      <td>364</td>\n",
              "      <td>0</td>\n",
              "      <td>NaN</td>\n",
              "    </tr>\n",
              "    <tr>\n",
              "      <th>3</th>\n",
              "      <td>28277</td>\n",
              "      <td>Duplex Apartment 11 with Terrace</td>\n",
              "      <td>121607</td>\n",
              "      <td>Alen</td>\n",
              "      <td>NaN</td>\n",
              "      <td>Sisli</td>\n",
              "      <td>41.04471</td>\n",
              "      <td>28.98567</td>\n",
              "      <td>Entire home/apt</td>\n",
              "      <td>657</td>\n",
              "      <td>14</td>\n",
              "      <td>1</td>\n",
              "      <td>2021-05-15</td>\n",
              "      <td>0.18</td>\n",
              "      <td>17</td>\n",
              "      <td>328</td>\n",
              "      <td>1</td>\n",
              "      <td>NaN</td>\n",
              "    </tr>\n",
              "    <tr>\n",
              "      <th>4</th>\n",
              "      <td>28318</td>\n",
              "      <td>Cosy home overlooking Bosphorus</td>\n",
              "      <td>121721</td>\n",
              "      <td>Aydin</td>\n",
              "      <td>NaN</td>\n",
              "      <td>Sariyer</td>\n",
              "      <td>41.09104</td>\n",
              "      <td>29.05580</td>\n",
              "      <td>Entire home/apt</td>\n",
              "      <td>1198</td>\n",
              "      <td>3</td>\n",
              "      <td>0</td>\n",
              "      <td>NaN</td>\n",
              "      <td>NaN</td>\n",
              "      <td>1</td>\n",
              "      <td>88</td>\n",
              "      <td>0</td>\n",
              "      <td>NaN</td>\n",
              "    </tr>\n",
              "  </tbody>\n",
              "</table>\n",
              "</div>\n",
              "      <button class=\"colab-df-convert\" onclick=\"convertToInteractive('df-c3d3ae06-e00f-4763-b907-48ca51aa53f3')\"\n",
              "              title=\"Convert this dataframe to an interactive table.\"\n",
              "              style=\"display:none;\">\n",
              "        \n",
              "  <svg xmlns=\"http://www.w3.org/2000/svg\" height=\"24px\"viewBox=\"0 0 24 24\"\n",
              "       width=\"24px\">\n",
              "    <path d=\"M0 0h24v24H0V0z\" fill=\"none\"/>\n",
              "    <path d=\"M18.56 5.44l.94 2.06.94-2.06 2.06-.94-2.06-.94-.94-2.06-.94 2.06-2.06.94zm-11 1L8.5 8.5l.94-2.06 2.06-.94-2.06-.94L8.5 2.5l-.94 2.06-2.06.94zm10 10l.94 2.06.94-2.06 2.06-.94-2.06-.94-.94-2.06-.94 2.06-2.06.94z\"/><path d=\"M17.41 7.96l-1.37-1.37c-.4-.4-.92-.59-1.43-.59-.52 0-1.04.2-1.43.59L10.3 9.45l-7.72 7.72c-.78.78-.78 2.05 0 2.83L4 21.41c.39.39.9.59 1.41.59.51 0 1.02-.2 1.41-.59l7.78-7.78 2.81-2.81c.8-.78.8-2.07 0-2.86zM5.41 20L4 18.59l7.72-7.72 1.47 1.35L5.41 20z\"/>\n",
              "  </svg>\n",
              "      </button>\n",
              "      \n",
              "  <style>\n",
              "    .colab-df-container {\n",
              "      display:flex;\n",
              "      flex-wrap:wrap;\n",
              "      gap: 12px;\n",
              "    }\n",
              "\n",
              "    .colab-df-convert {\n",
              "      background-color: #E8F0FE;\n",
              "      border: none;\n",
              "      border-radius: 50%;\n",
              "      cursor: pointer;\n",
              "      display: none;\n",
              "      fill: #1967D2;\n",
              "      height: 32px;\n",
              "      padding: 0 0 0 0;\n",
              "      width: 32px;\n",
              "    }\n",
              "\n",
              "    .colab-df-convert:hover {\n",
              "      background-color: #E2EBFA;\n",
              "      box-shadow: 0px 1px 2px rgba(60, 64, 67, 0.3), 0px 1px 3px 1px rgba(60, 64, 67, 0.15);\n",
              "      fill: #174EA6;\n",
              "    }\n",
              "\n",
              "    [theme=dark] .colab-df-convert {\n",
              "      background-color: #3B4455;\n",
              "      fill: #D2E3FC;\n",
              "    }\n",
              "\n",
              "    [theme=dark] .colab-df-convert:hover {\n",
              "      background-color: #434B5C;\n",
              "      box-shadow: 0px 1px 3px 1px rgba(0, 0, 0, 0.15);\n",
              "      filter: drop-shadow(0px 1px 2px rgba(0, 0, 0, 0.3));\n",
              "      fill: #FFFFFF;\n",
              "    }\n",
              "  </style>\n",
              "\n",
              "      <script>\n",
              "        const buttonEl =\n",
              "          document.querySelector('#df-c3d3ae06-e00f-4763-b907-48ca51aa53f3 button.colab-df-convert');\n",
              "        buttonEl.style.display =\n",
              "          google.colab.kernel.accessAllowed ? 'block' : 'none';\n",
              "\n",
              "        async function convertToInteractive(key) {\n",
              "          const element = document.querySelector('#df-c3d3ae06-e00f-4763-b907-48ca51aa53f3');\n",
              "          const dataTable =\n",
              "            await google.colab.kernel.invokeFunction('convertToInteractive',\n",
              "                                                     [key], {});\n",
              "          if (!dataTable) return;\n",
              "\n",
              "          const docLinkHtml = 'Like what you see? Visit the ' +\n",
              "            '<a target=\"_blank\" href=https://colab.research.google.com/notebooks/data_table.ipynb>data table notebook</a>'\n",
              "            + ' to learn more about interactive tables.';\n",
              "          element.innerHTML = '';\n",
              "          dataTable['output_type'] = 'display_data';\n",
              "          await google.colab.output.renderOutput(dataTable, element);\n",
              "          const docLink = document.createElement('div');\n",
              "          docLink.innerHTML = docLinkHtml;\n",
              "          element.appendChild(docLink);\n",
              "        }\n",
              "      </script>\n",
              "    </div>\n",
              "  </div>\n",
              "  "
            ],
            "text/plain": [
              "      id                                  name  ...  number_of_reviews_ltm license\n",
              "0  20815     The Bosphorus from The Comfy Hill  ...                      0     NaN\n",
              "1  27271  Lovely apartment in perfect location  ...                      0     NaN\n",
              "2  27831      Large, clean, spacious apartment  ...                      0     NaN\n",
              "3  28277      Duplex Apartment 11 with Terrace  ...                      1     NaN\n",
              "4  28318       Cosy home overlooking Bosphorus  ...                      0     NaN\n",
              "\n",
              "[5 rows x 18 columns]"
            ]
          },
          "metadata": {},
          "execution_count": 34
        }
      ]
    },
    {
      "cell_type": "markdown",
      "source": [
        "### **Q1. Quantas variáveis e quantas entradas o nosso conjunto de dados possui? Quais os tipos das variáveis?**"
      ],
      "metadata": {
        "id": "hatvFvuvIB1p"
      }
    },
    {
      "cell_type": "markdown",
      "source": [
        "O arquivo disponibilizado é um resumo dos dados coletados pela empresa, contando com **22539** entradas e **18** variáveis \n"
      ],
      "metadata": {
        "id": "5pw-icheLjK2"
      }
    },
    {
      "cell_type": "code",
      "source": [
        "#Identificar o volume de dados\n",
        "print(\"Entradas:\\t{}\".format(df.shape[0]))\n",
        "print(\"Variaveis:\\t{}\".format(df.shape[1]))"
      ],
      "metadata": {
        "colab": {
          "base_uri": "https://localhost:8080/"
        },
        "id": "LF3kauzUJMpM",
        "outputId": "73cfa525-2e05-405a-bb12-425f6704d386"
      },
      "execution_count": 35,
      "outputs": [
        {
          "output_type": "stream",
          "name": "stdout",
          "text": [
            "Entradas:\t22539\n",
            "Variaveis:\t18\n"
          ]
        }
      ]
    },
    {
      "cell_type": "code",
      "source": [
        "#Mais informaçoes sobre os atributos e caracteristicas\n",
        "df.info()"
      ],
      "metadata": {
        "colab": {
          "base_uri": "https://localhost:8080/"
        },
        "id": "eqDiyvPlLcM0",
        "outputId": "e8962c12-e1f6-4792-b82a-7a7a2a24470c"
      },
      "execution_count": 36,
      "outputs": [
        {
          "output_type": "stream",
          "name": "stdout",
          "text": [
            "<class 'pandas.core.frame.DataFrame'>\n",
            "RangeIndex: 22539 entries, 0 to 22538\n",
            "Data columns (total 18 columns):\n",
            " #   Column                          Non-Null Count  Dtype  \n",
            "---  ------                          --------------  -----  \n",
            " 0   id                              22539 non-null  int64  \n",
            " 1   name                            22514 non-null  object \n",
            " 2   host_id                         22539 non-null  int64  \n",
            " 3   host_name                       22539 non-null  object \n",
            " 4   neighbourhood_group             0 non-null      float64\n",
            " 5   neighbourhood                   22539 non-null  object \n",
            " 6   latitude                        22539 non-null  float64\n",
            " 7   longitude                       22539 non-null  float64\n",
            " 8   room_type                       22539 non-null  object \n",
            " 9   price                           22539 non-null  int64  \n",
            " 10  minimum_nights                  22539 non-null  int64  \n",
            " 11  number_of_reviews               22539 non-null  int64  \n",
            " 12  last_review                     12071 non-null  object \n",
            " 13  reviews_per_month               12071 non-null  float64\n",
            " 14  calculated_host_listings_count  22539 non-null  int64  \n",
            " 15  availability_365                22539 non-null  int64  \n",
            " 16  number_of_reviews_ltm           22539 non-null  int64  \n",
            " 17  license                         0 non-null      float64\n",
            "dtypes: float64(5), int64(8), object(5)\n",
            "memory usage: 3.1+ MB\n"
          ]
        }
      ]
    },
    {
      "cell_type": "markdown",
      "source": [
        "### **Q2. Qual a porcentagem de valores ausentes?**\n",
        "\n",
        "Nas variáveis license e neighbourhood_group tem **100%** dos valores ausentes, enquanto reviews_per_month e last_review com **46%** de valores ausentes"
      ],
      "metadata": {
        "id": "QVnVSLkbMjtb"
      }
    },
    {
      "cell_type": "code",
      "source": [
        "#ordenar em ordem decrescente as variáveis por seus valores ausentes\n",
        "(df.isnull().sum()).sort_values(ascending= False)"
      ],
      "metadata": {
        "colab": {
          "base_uri": "https://localhost:8080/"
        },
        "id": "Ho65mc50L8YW",
        "outputId": "63f924f0-e543-4f50-bdc4-1d82c076e3d2"
      },
      "execution_count": 37,
      "outputs": [
        {
          "output_type": "execute_result",
          "data": {
            "text/plain": [
              "license                           22539\n",
              "neighbourhood_group               22539\n",
              "reviews_per_month                 10468\n",
              "last_review                       10468\n",
              "name                                 25\n",
              "longitude                             0\n",
              "host_id                               0\n",
              "host_name                             0\n",
              "neighbourhood                         0\n",
              "latitude                              0\n",
              "room_type                             0\n",
              "number_of_reviews_ltm                 0\n",
              "price                                 0\n",
              "minimum_nights                        0\n",
              "number_of_reviews                     0\n",
              "calculated_host_listings_count        0\n",
              "availability_365                      0\n",
              "id                                    0\n",
              "dtype: int64"
            ]
          },
          "metadata": {},
          "execution_count": 37
        }
      ]
    },
    {
      "cell_type": "code",
      "source": [
        "#Porcentagem de valores ausentes\n",
        "df.isnull().sum().sort_values(ascending= False) / df.shape[0] *100"
      ],
      "metadata": {
        "colab": {
          "base_uri": "https://localhost:8080/"
        },
        "id": "vVlxR_3WTD3F",
        "outputId": "83e0efa6-5353-4ae9-a895-e287c9791304"
      },
      "execution_count": 38,
      "outputs": [
        {
          "output_type": "execute_result",
          "data": {
            "text/plain": [
              "license                           100.000000\n",
              "neighbourhood_group               100.000000\n",
              "reviews_per_month                  46.443942\n",
              "last_review                        46.443942\n",
              "name                                0.110919\n",
              "longitude                           0.000000\n",
              "host_id                             0.000000\n",
              "host_name                           0.000000\n",
              "neighbourhood                       0.000000\n",
              "latitude                            0.000000\n",
              "room_type                           0.000000\n",
              "number_of_reviews_ltm               0.000000\n",
              "price                               0.000000\n",
              "minimum_nights                      0.000000\n",
              "number_of_reviews                   0.000000\n",
              "calculated_host_listings_count      0.000000\n",
              "availability_365                    0.000000\n",
              "id                                  0.000000\n",
              "dtype: float64"
            ]
          },
          "metadata": {},
          "execution_count": 38
        }
      ]
    },
    {
      "cell_type": "markdown",
      "source": [
        "Como os dados que estão ausentes não possuem informaçoes relevantes para essa análise, vou excluir-los."
      ],
      "metadata": {
        "id": "JUASQMkTa1KE"
      }
    },
    {
      "cell_type": "code",
      "source": [
        "#lidando com os valores ausentes\n",
        "df = df.drop(columns= ['license', 'neighbourhood_group', 'neighbourhood_group', 'last_review'])\n",
        "\n",
        "#excluindo as linhas ausentes da variavel name\n",
        "\n",
        "df = df.dropna(axis=0)"
      ],
      "metadata": {
        "id": "FawoWH2WT6X7"
      },
      "execution_count": 39,
      "outputs": []
    },
    {
      "cell_type": "markdown",
      "source": [
        "Verificando os dados depois de apagar os ausentes "
      ],
      "metadata": {
        "id": "UOK3IRN3cCGK"
      }
    },
    {
      "cell_type": "code",
      "source": [
        "print(df.shape)"
      ],
      "metadata": {
        "colab": {
          "base_uri": "https://localhost:8080/"
        },
        "id": "esNIhDqtcAdY",
        "outputId": "59fed9b0-511a-481e-d404-4501e9fd3c5c"
      },
      "execution_count": 40,
      "outputs": [
        {
          "output_type": "stream",
          "name": "stdout",
          "text": [
            "(12070, 15)\n"
          ]
        }
      ]
    },
    {
      "cell_type": "code",
      "source": [
        "df.isnull().sum().sort_values(ascending= False) / df.shape[0] *100"
      ],
      "metadata": {
        "colab": {
          "base_uri": "https://localhost:8080/"
        },
        "id": "q6iFfDV5ePfC",
        "outputId": "a8dc3b2f-e50f-42a4-ae2d-8fe2a207baf0"
      },
      "execution_count": 41,
      "outputs": [
        {
          "output_type": "execute_result",
          "data": {
            "text/plain": [
              "number_of_reviews_ltm             0.0\n",
              "availability_365                  0.0\n",
              "calculated_host_listings_count    0.0\n",
              "reviews_per_month                 0.0\n",
              "number_of_reviews                 0.0\n",
              "minimum_nights                    0.0\n",
              "price                             0.0\n",
              "room_type                         0.0\n",
              "longitude                         0.0\n",
              "latitude                          0.0\n",
              "neighbourhood                     0.0\n",
              "host_name                         0.0\n",
              "host_id                           0.0\n",
              "name                              0.0\n",
              "id                                0.0\n",
              "dtype: float64"
            ]
          },
          "metadata": {},
          "execution_count": 41
        }
      ]
    },
    {
      "cell_type": "markdown",
      "source": [
        "### **Q3. Qual o tipo de distribuição das variáveis?**"
      ],
      "metadata": {
        "id": "IIYhy21wOLtc"
      }
    },
    {
      "cell_type": "code",
      "source": [
        "#informaçōes \n",
        "df.info()"
      ],
      "metadata": {
        "colab": {
          "base_uri": "https://localhost:8080/"
        },
        "id": "KDC7pMbgeTdZ",
        "outputId": "c8c20b8b-2217-4a3d-ecb9-cd8fbf18bb31"
      },
      "execution_count": 42,
      "outputs": [
        {
          "output_type": "stream",
          "name": "stdout",
          "text": [
            "<class 'pandas.core.frame.DataFrame'>\n",
            "Int64Index: 12070 entries, 0 to 22447\n",
            "Data columns (total 15 columns):\n",
            " #   Column                          Non-Null Count  Dtype  \n",
            "---  ------                          --------------  -----  \n",
            " 0   id                              12070 non-null  int64  \n",
            " 1   name                            12070 non-null  object \n",
            " 2   host_id                         12070 non-null  int64  \n",
            " 3   host_name                       12070 non-null  object \n",
            " 4   neighbourhood                   12070 non-null  object \n",
            " 5   latitude                        12070 non-null  float64\n",
            " 6   longitude                       12070 non-null  float64\n",
            " 7   room_type                       12070 non-null  object \n",
            " 8   price                           12070 non-null  int64  \n",
            " 9   minimum_nights                  12070 non-null  int64  \n",
            " 10  number_of_reviews               12070 non-null  int64  \n",
            " 11  reviews_per_month               12070 non-null  float64\n",
            " 12  calculated_host_listings_count  12070 non-null  int64  \n",
            " 13  availability_365                12070 non-null  int64  \n",
            " 14  number_of_reviews_ltm           12070 non-null  int64  \n",
            "dtypes: float64(3), int64(8), object(4)\n",
            "memory usage: 1.5+ MB\n"
          ]
        }
      ]
    },
    {
      "cell_type": "code",
      "source": [
        "#plotar histogramas das variaveis numericas\n",
        "df.hist(bins = 15, figsize=(15,15));"
      ],
      "metadata": {
        "colab": {
          "base_uri": "https://localhost:8080/",
          "height": 879
        },
        "id": "WeheRYmiOyqi",
        "outputId": "1222b3af-abd5-4e2f-939d-38b518c35d75"
      },
      "execution_count": 43,
      "outputs": [
        {
          "output_type": "display_data",
          "data": {
            "image/png": "[encoded data removed]",
            "text/plain": [
              "<Figure size 1080x1080 with 12 Axes>"
            ]
          },
          "metadata": {
            "needs_background": "light"
          }
        }
      ]
    },
    {
      "cell_type": "markdown",
      "source": [
        "As variaveis price e minimum_nights chamam atenção pela forma que esta distribuidas, me levando a pensar que há outliers"
      ],
      "metadata": {
        "id": "u398ZjwkvpPY"
      }
    },
    {
      "cell_type": "markdown",
      "source": [
        "### **Q4. Há Outliers presentes?**\n",
        "\n",
        "Vamos utilizar o describe() para verificarmos com uma melhor exatidão"
      ],
      "metadata": {
        "id": "FH7kmKd7v3R8"
      }
    },
    {
      "cell_type": "code",
      "source": [
        "df[['minimum_nights', 'price']].describe()"
      ],
      "metadata": {
        "colab": {
          "base_uri": "https://localhost:8080/",
          "height": 297
        },
        "id": "430Zt-6xvdXd",
        "outputId": "28732772-6e80-43ba-8e37-cd447e67d50a"
      },
      "execution_count": 44,
      "outputs": [
        {
          "output_type": "execute_result",
          "data": {
            "text/html": [
              "\n",
              "  <div id=\"df-d7817b0f-4dfb-4395-8708-ee4c14dab490\">\n",
              "    <div class=\"colab-df-container\">\n",
              "      <div>\n",
              "<style scoped>\n",
              "    .dataframe tbody tr th:only-of-type {\n",
              "        vertical-align: middle;\n",
              "    }\n",
              "\n",
              "    .dataframe tbody tr th {\n",
              "        vertical-align: top;\n",
              "    }\n",
              "\n",
              "    .dataframe thead th {\n",
              "        text-align: right;\n",
              "    }\n",
              "</style>\n",
              "<table border=\"1\" class=\"dataframe\">\n",
              "  <thead>\n",
              "    <tr style=\"text-align: right;\">\n",
              "      <th></th>\n",
              "      <th>minimum_nights</th>\n",
              "      <th>price</th>\n",
              "    </tr>\n",
              "  </thead>\n",
              "  <tbody>\n",
              "    <tr>\n",
              "      <th>count</th>\n",
              "      <td>12070.000000</td>\n",
              "      <td>12070.000000</td>\n",
              "    </tr>\n",
              "    <tr>\n",
              "      <th>mean</th>\n",
              "      <td>5.246396</td>\n",
              "      <td>618.378210</td>\n",
              "    </tr>\n",
              "    <tr>\n",
              "      <th>std</th>\n",
              "      <td>24.892283</td>\n",
              "      <td>1510.798309</td>\n",
              "    </tr>\n",
              "    <tr>\n",
              "      <th>min</th>\n",
              "      <td>1.000000</td>\n",
              "      <td>38.000000</td>\n",
              "    </tr>\n",
              "    <tr>\n",
              "      <th>25%</th>\n",
              "      <td>1.000000</td>\n",
              "      <td>278.000000</td>\n",
              "    </tr>\n",
              "    <tr>\n",
              "      <th>50%</th>\n",
              "      <td>2.000000</td>\n",
              "      <td>431.000000</td>\n",
              "    </tr>\n",
              "    <tr>\n",
              "      <th>75%</th>\n",
              "      <td>3.000000</td>\n",
              "      <td>671.000000</td>\n",
              "    </tr>\n",
              "    <tr>\n",
              "      <th>max</th>\n",
              "      <td>730.000000</td>\n",
              "      <td>86251.000000</td>\n",
              "    </tr>\n",
              "  </tbody>\n",
              "</table>\n",
              "</div>\n",
              "      <button class=\"colab-df-convert\" onclick=\"convertToInteractive('df-d7817b0f-4dfb-4395-8708-ee4c14dab490')\"\n",
              "              title=\"Convert this dataframe to an interactive table.\"\n",
              "              style=\"display:none;\">\n",
              "        \n",
              "  <svg xmlns=\"http://www.w3.org/2000/svg\" height=\"24px\"viewBox=\"0 0 24 24\"\n",
              "       width=\"24px\">\n",
              "    <path d=\"M0 0h24v24H0V0z\" fill=\"none\"/>\n",
              "    <path d=\"M18.56 5.44l.94 2.06.94-2.06 2.06-.94-2.06-.94-.94-2.06-.94 2.06-2.06.94zm-11 1L8.5 8.5l.94-2.06 2.06-.94-2.06-.94L8.5 2.5l-.94 2.06-2.06.94zm10 10l.94 2.06.94-2.06 2.06-.94-2.06-.94-.94-2.06-.94 2.06-2.06.94z\"/><path d=\"M17.41 7.96l-1.37-1.37c-.4-.4-.92-.59-1.43-.59-.52 0-1.04.2-1.43.59L10.3 9.45l-7.72 7.72c-.78.78-.78 2.05 0 2.83L4 21.41c.39.39.9.59 1.41.59.51 0 1.02-.2 1.41-.59l7.78-7.78 2.81-2.81c.8-.78.8-2.07 0-2.86zM5.41 20L4 18.59l7.72-7.72 1.47 1.35L5.41 20z\"/>\n",
              "  </svg>\n",
              "      </button>\n",
              "      \n",
              "  <style>\n",
              "    .colab-df-container {\n",
              "      display:flex;\n",
              "      flex-wrap:wrap;\n",
              "      gap: 12px;\n",
              "    }\n",
              "\n",
              "    .colab-df-convert {\n",
              "      background-color: #E8F0FE;\n",
              "      border: none;\n",
              "      border-radius: 50%;\n",
              "      cursor: pointer;\n",
              "      display: none;\n",
              "      fill: #1967D2;\n",
              "      height: 32px;\n",
              "      padding: 0 0 0 0;\n",
              "      width: 32px;\n",
              "    }\n",
              "\n",
              "    .colab-df-convert:hover {\n",
              "      background-color: #E2EBFA;\n",
              "      box-shadow: 0px 1px 2px rgba(60, 64, 67, 0.3), 0px 1px 3px 1px rgba(60, 64, 67, 0.15);\n",
              "      fill: #174EA6;\n",
              "    }\n",
              "\n",
              "    [theme=dark] .colab-df-convert {\n",
              "      background-color: #3B4455;\n",
              "      fill: #D2E3FC;\n",
              "    }\n",
              "\n",
              "    [theme=dark] .colab-df-convert:hover {\n",
              "      background-color: #434B5C;\n",
              "      box-shadow: 0px 1px 3px 1px rgba(0, 0, 0, 0.15);\n",
              "      filter: drop-shadow(0px 1px 2px rgba(0, 0, 0, 0.3));\n",
              "      fill: #FFFFFF;\n",
              "    }\n",
              "  </style>\n",
              "\n",
              "      <script>\n",
              "        const buttonEl =\n",
              "          document.querySelector('#df-d7817b0f-4dfb-4395-8708-ee4c14dab490 button.colab-df-convert');\n",
              "        buttonEl.style.display =\n",
              "          google.colab.kernel.accessAllowed ? 'block' : 'none';\n",
              "\n",
              "        async function convertToInteractive(key) {\n",
              "          const element = document.querySelector('#df-d7817b0f-4dfb-4395-8708-ee4c14dab490');\n",
              "          const dataTable =\n",
              "            await google.colab.kernel.invokeFunction('convertToInteractive',\n",
              "                                                     [key], {});\n",
              "          if (!dataTable) return;\n",
              "\n",
              "          const docLinkHtml = 'Like what you see? Visit the ' +\n",
              "            '<a target=\"_blank\" href=https://colab.research.google.com/notebooks/data_table.ipynb>data table notebook</a>'\n",
              "            + ' to learn more about interactive tables.';\n",
              "          element.innerHTML = '';\n",
              "          dataTable['output_type'] = 'display_data';\n",
              "          await google.colab.output.renderOutput(dataTable, element);\n",
              "          const docLink = document.createElement('div');\n",
              "          docLink.innerHTML = docLinkHtml;\n",
              "          element.appendChild(docLink);\n",
              "        }\n",
              "      </script>\n",
              "    </div>\n",
              "  </div>\n",
              "  "
            ],
            "text/plain": [
              "       minimum_nights         price\n",
              "count    12070.000000  12070.000000\n",
              "mean         5.246396    618.378210\n",
              "std         24.892283   1510.798309\n",
              "min          1.000000     38.000000\n",
              "25%          1.000000    278.000000\n",
              "50%          2.000000    431.000000\n",
              "75%          3.000000    671.000000\n",
              "max        730.000000  86251.000000"
            ]
          },
          "metadata": {},
          "execution_count": 44
        }
      ]
    },
    {
      "cell_type": "markdown",
      "source": [
        "Podemos ver que em **75%** dos dados na variável Minimum_nights é de 3 dias, ja o **max** é de 730\n",
        "\n",
        "Já na variável price nos 75% é de 671, enquanto no **max** é de 86251.\n",
        "\n",
        "O que me faz chegar a conclusão que existem outliers. Vou plotar um boxplot para ver melhor esses outliers"
      ],
      "metadata": {
        "id": "dXcoePHjw0XH"
      }
    },
    {
      "cell_type": "code",
      "source": [
        "#identificando os outliers para a variável minimum_nights\n",
        "q1 = df.minimum_nights.quantile(.25)\n",
        "q3 = df.minimum_nights.quantile(.75)\n",
        "IQR_minimum_nights = q3 - q1 \n",
        "\n",
        "print(IQR_minimum_nights)"
      ],
      "metadata": {
        "colab": {
          "base_uri": "https://localhost:8080/"
        },
        "id": "zwZJj2cOyLLJ",
        "outputId": "04a9a4c6-3414-47cb-805f-303d2ec6343d"
      },
      "execution_count": 45,
      "outputs": [
        {
          "output_type": "stream",
          "name": "stdout",
          "text": [
            "2.0\n"
          ]
        }
      ]
    },
    {
      "cell_type": "code",
      "source": [
        "#definindo os limites\n",
        "sup_m = q3 + 1.5 *IQR_minimum_nights\n",
        "inf_m = q1 - 1.5 *IQR_minimum_nights\n",
        "\n",
        "print(sup_m)\n",
        "print(inf_m)"
      ],
      "metadata": {
        "colab": {
          "base_uri": "https://localhost:8080/"
        },
        "id": "-WZI0_qe0T0g",
        "outputId": "0b504fd9-5126-4ab8-c15e-dd31568f7e57"
      },
      "execution_count": 46,
      "outputs": [
        {
          "output_type": "stream",
          "name": "stdout",
          "text": [
            "6.0\n",
            "-2.0\n"
          ]
        }
      ]
    },
    {
      "cell_type": "code",
      "source": [
        "#plotar boxplot para a variável minimum_nights\n",
        "df.minimum_nights.plot(kind='box', vert= False, figsize=(15,3))\n",
        "\n",
        "#ver quantidade de valores acima de 6 dias para minimum_nights\n",
        "print('Acima de 6 noites:')\n",
        "print('{}entradas'.format(len(df[df.minimum_nights > 6])))\n",
        "print('{:.4f}%'.format((len(df[df.minimum_nights > 6]) / df.shape[0]*100)))"
      ],
      "metadata": {
        "colab": {
          "base_uri": "https://localhost:8080/",
          "height": 262
        },
        "id": "7GFOZqPowYO7",
        "outputId": "4891669e-5bf9-4be8-c320-f41a3f7bfea5"
      },
      "execution_count": 47,
      "outputs": [
        {
          "output_type": "stream",
          "name": "stdout",
          "text": [
            "Acima de 6 noites:\n",
            "1163entradas\n",
            "9.6355%\n"
          ]
        },
        {
          "output_type": "display_data",
          "data": {
            "image/png": "[encoded data removed]",
            "text/plain": [
              "<Figure size 1080x216 with 1 Axes>"
            ]
          },
          "metadata": {
            "needs_background": "light"
          }
        }
      ]
    },
    {
      "cell_type": "code",
      "source": [
        "#Identificando os valores outliers com o IQR\n",
        "q1_p = df.price.quantile(.25)\n",
        "q3_p = df.price.quantile(.75)\n",
        "IQR_p = q3_p - q1_p\n",
        "\n",
        "print(IQR_p)"
      ],
      "metadata": {
        "colab": {
          "base_uri": "https://localhost:8080/"
        },
        "id": "LK2BnK_S0AUI",
        "outputId": "76e6675c-e899-4c30-aaa3-cad0c15b86a1"
      },
      "execution_count": 48,
      "outputs": [
        {
          "output_type": "stream",
          "name": "stdout",
          "text": [
            "393.0\n"
          ]
        }
      ]
    },
    {
      "cell_type": "code",
      "source": [
        "#definindo os limites de price\n",
        "sup_p = q3_p + 1.5 * IQR_p\n",
        "inf_p = q1_p - 1.5 *IQR_p\n",
        "\n",
        "print(sup_p)\n",
        "print(inf_p)"
      ],
      "metadata": {
        "colab": {
          "base_uri": "https://localhost:8080/"
        },
        "id": "lS6_8eQr4Hdi",
        "outputId": "7eb4d33c-ffba-46e1-d729-5dbb5d213576"
      },
      "execution_count": 49,
      "outputs": [
        {
          "output_type": "stream",
          "name": "stdout",
          "text": [
            "1260.5\n",
            "-311.5\n"
          ]
        }
      ]
    },
    {
      "cell_type": "code",
      "source": [
        "#plotar boxplot para price \n",
        "df.price.plot(kind=\"box\", vert = False, figsize=(15,3))\n",
        "\n",
        "#ver quantidade de valores acima de 1260\n",
        "print(\"Acima de 1260:\")\n",
        "print('{}entradas:'.format(len(df[df.price > 1260])))\n",
        "print(\"{:.2f}%\".format((len(df[df.price > 1260]) / df.shape[0]*100)))"
      ],
      "metadata": {
        "colab": {
          "base_uri": "https://localhost:8080/",
          "height": 262
        },
        "id": "V4HKycFF4fkC",
        "outputId": "6813684c-ffb7-4471-e1ed-89dedc947d3f"
      },
      "execution_count": 50,
      "outputs": [
        {
          "output_type": "stream",
          "name": "stdout",
          "text": [
            "Acima de 1260:\n",
            "863entradas:\n",
            "7.15%\n"
          ]
        },
        {
          "output_type": "display_data",
          "data": {
            "image/png": "[encoded data removed]",
            "text/plain": [
              "<Figure size 1080x216 with 1 Axes>"
            ]
          },
          "metadata": {
            "needs_background": "light"
          }
        }
      ]
    },
    {
      "cell_type": "markdown",
      "source": [
        "Como a quantidade de valores outliers é irrelevante para o estudo, vou limpar o dataset"
      ],
      "metadata": {
        "id": "InggtKYL5b6v"
      }
    },
    {
      "cell_type": "code",
      "source": [
        "#limpando os outliers de minimum_nights\n",
        "df_clean = df.copy()\n",
        "\n",
        "df_clean.drop(df_clean[df_clean.price > 1260].index,axis=0, inplace= True)\n",
        "\n",
        "df_clean.drop(df_clean[df_clean.minimum_nights > 30].index, axis=0,inplace= True)\n",
        "\n",
        "#plotar um histograma para ver o resultado da limpeza\n",
        "df_clean.hist(bins = 15, figsize = (15,10));"
      ],
      "metadata": {
        "colab": {
          "base_uri": "https://localhost:8080/",
          "height": 607
        },
        "id": "PtIT24Xn4xON",
        "outputId": "bc2c4026-292d-43d0-8d30-79c8d96aea6e"
      },
      "execution_count": 51,
      "outputs": [
        {
          "output_type": "display_data",
          "data": {
            "image/png": "[encoded data removed]",
            "text/plain": [
              "<Figure size 1080x720 with 12 Axes>"
            ]
          },
          "metadata": {
            "needs_background": "light"
          }
        }
      ]
    },
    {
      "cell_type": "markdown",
      "source": [
        "Agora com os dados limpos, podemos extrair informações relevantes\n"
      ],
      "metadata": {
        "id": "NUfjSPPZ7r_P"
      }
    },
    {
      "cell_type": "markdown",
      "source": [
        "### **Q5. Qual a media dos preços de aluguel**\n"
      ],
      "metadata": {
        "id": "C2TJoKny78pc"
      }
    },
    {
      "cell_type": "code",
      "source": [
        "#Mostrando a media de preços de aluguel\n",
        "print('Média de preços em Istambul: Kr {:.2f}'.format(df_clean['price'].mean()))"
      ],
      "metadata": {
        "colab": {
          "base_uri": "https://localhost:8080/"
        },
        "id": "oDue7_n96joy",
        "outputId": "2fa29823-184f-4279-b10f-a16c6653d989"
      },
      "execution_count": 52,
      "outputs": [
        {
          "output_type": "stream",
          "name": "stdout",
          "text": [
            "Média de preços em Istambul: Kr 460.66\n"
          ]
        }
      ]
    },
    {
      "cell_type": "markdown",
      "source": [
        "### **Q6. Qual a correlação existente entre as variaveis?**"
      ],
      "metadata": {
        "id": "Bux_YHzY_tTe"
      }
    },
    {
      "cell_type": "markdown",
      "source": [
        "Correlação significa que existe uma relação entre duas coisas. No nosso contexto, estamos buscando relação ou semelhança entre duas variáveis.\n",
        "Essa relação pode ser medida, e é função do coeficiente de correlação estabelecer qual a intensidade dela. Para identificar as correlações existentes entre as variáveis de interesse, vou:\n",
        "* Criar uma matriz de correlação\n",
        "* Gerar um heatmap a partir dessa matriz, usando a biblioteca seaborn"
      ],
      "metadata": {
        "id": "-Uz5bmKYLkes"
      }
    },
    {
      "cell_type": "code",
      "source": [
        "#criar uma matriz de correlação \n",
        "df_clean.corr()"
      ],
      "metadata": {
        "colab": {
          "base_uri": "https://localhost:8080/",
          "height": 454
        },
        "id": "B7q1sUeI80XX",
        "outputId": "faba8be8-9b7a-4aeb-b74a-a9fcc506b0af"
      },
      "execution_count": 31,
      "outputs": [
        {
          "output_type": "execute_result",
          "data": {
            "text/html": [
              "\n",
              "  <div id=\"df-7da442b0-950a-4c7b-8b23-814e68ca4b96\">\n",
              "    <div class=\"colab-df-container\">\n",
              "      <div>\n",
              "<style scoped>\n",
              "    .dataframe tbody tr th:only-of-type {\n",
              "        vertical-align: middle;\n",
              "    }\n",
              "\n",
              "    .dataframe tbody tr th {\n",
              "        vertical-align: top;\n",
              "    }\n",
              "\n",
              "    .dataframe thead th {\n",
              "        text-align: right;\n",
              "    }\n",
              "</style>\n",
              "<table border=\"1\" class=\"dataframe\">\n",
              "  <thead>\n",
              "    <tr style=\"text-align: right;\">\n",
              "      <th></th>\n",
              "      <th>id</th>\n",
              "      <th>host_id</th>\n",
              "      <th>latitude</th>\n",
              "      <th>longitude</th>\n",
              "      <th>price</th>\n",
              "      <th>minimum_nights</th>\n",
              "      <th>number_of_reviews</th>\n",
              "      <th>reviews_per_month</th>\n",
              "      <th>calculated_host_listings_count</th>\n",
              "      <th>availability_365</th>\n",
              "      <th>number_of_reviews_ltm</th>\n",
              "    </tr>\n",
              "  </thead>\n",
              "  <tbody>\n",
              "    <tr>\n",
              "      <th>id</th>\n",
              "      <td>1.000000</td>\n",
              "      <td>0.583142</td>\n",
              "      <td>0.019319</td>\n",
              "      <td>0.007622</td>\n",
              "      <td>-0.035485</td>\n",
              "      <td>-0.044030</td>\n",
              "      <td>-0.392671</td>\n",
              "      <td>0.214275</td>\n",
              "      <td>0.020651</td>\n",
              "      <td>-0.035875</td>\n",
              "      <td>0.040991</td>\n",
              "    </tr>\n",
              "    <tr>\n",
              "      <th>host_id</th>\n",
              "      <td>0.583142</td>\n",
              "      <td>1.000000</td>\n",
              "      <td>0.010594</td>\n",
              "      <td>-0.010126</td>\n",
              "      <td>-0.082193</td>\n",
              "      <td>-0.051720</td>\n",
              "      <td>-0.260011</td>\n",
              "      <td>0.069007</td>\n",
              "      <td>-0.051527</td>\n",
              "      <td>0.018592</td>\n",
              "      <td>-0.032505</td>\n",
              "    </tr>\n",
              "    <tr>\n",
              "      <th>latitude</th>\n",
              "      <td>0.019319</td>\n",
              "      <td>0.010594</td>\n",
              "      <td>1.000000</td>\n",
              "      <td>-0.159088</td>\n",
              "      <td>0.063007</td>\n",
              "      <td>-0.006615</td>\n",
              "      <td>-0.025040</td>\n",
              "      <td>-0.017121</td>\n",
              "      <td>0.033394</td>\n",
              "      <td>-0.012369</td>\n",
              "      <td>-0.022782</td>\n",
              "    </tr>\n",
              "    <tr>\n",
              "      <th>longitude</th>\n",
              "      <td>0.007622</td>\n",
              "      <td>-0.010126</td>\n",
              "      <td>-0.159088</td>\n",
              "      <td>1.000000</td>\n",
              "      <td>-0.001957</td>\n",
              "      <td>-0.044147</td>\n",
              "      <td>-0.011272</td>\n",
              "      <td>0.002393</td>\n",
              "      <td>-0.041253</td>\n",
              "      <td>-0.001732</td>\n",
              "      <td>0.005117</td>\n",
              "    </tr>\n",
              "    <tr>\n",
              "      <th>price</th>\n",
              "      <td>-0.035485</td>\n",
              "      <td>-0.082193</td>\n",
              "      <td>0.063007</td>\n",
              "      <td>-0.001957</td>\n",
              "      <td>1.000000</td>\n",
              "      <td>-0.019996</td>\n",
              "      <td>0.036878</td>\n",
              "      <td>0.013798</td>\n",
              "      <td>0.130760</td>\n",
              "      <td>0.083435</td>\n",
              "      <td>0.043841</td>\n",
              "    </tr>\n",
              "    <tr>\n",
              "      <th>minimum_nights</th>\n",
              "      <td>-0.044030</td>\n",
              "      <td>-0.051720</td>\n",
              "      <td>-0.006615</td>\n",
              "      <td>-0.044147</td>\n",
              "      <td>-0.019996</td>\n",
              "      <td>1.000000</td>\n",
              "      <td>-0.045039</td>\n",
              "      <td>-0.081761</td>\n",
              "      <td>-0.018195</td>\n",
              "      <td>-0.112482</td>\n",
              "      <td>-0.083395</td>\n",
              "    </tr>\n",
              "    <tr>\n",
              "      <th>number_of_reviews</th>\n",
              "      <td>-0.392671</td>\n",
              "      <td>-0.260011</td>\n",
              "      <td>-0.025040</td>\n",
              "      <td>-0.011272</td>\n",
              "      <td>0.036878</td>\n",
              "      <td>-0.045039</td>\n",
              "      <td>1.000000</td>\n",
              "      <td>0.329815</td>\n",
              "      <td>0.081521</td>\n",
              "      <td>0.002105</td>\n",
              "      <td>0.594128</td>\n",
              "    </tr>\n",
              "    <tr>\n",
              "      <th>reviews_per_month</th>\n",
              "      <td>0.214275</td>\n",
              "      <td>0.069007</td>\n",
              "      <td>-0.017121</td>\n",
              "      <td>0.002393</td>\n",
              "      <td>0.013798</td>\n",
              "      <td>-0.081761</td>\n",
              "      <td>0.329815</td>\n",
              "      <td>1.000000</td>\n",
              "      <td>0.065434</td>\n",
              "      <td>-0.017996</td>\n",
              "      <td>0.539062</td>\n",
              "    </tr>\n",
              "    <tr>\n",
              "      <th>calculated_host_listings_count</th>\n",
              "      <td>0.020651</td>\n",
              "      <td>-0.051527</td>\n",
              "      <td>0.033394</td>\n",
              "      <td>-0.041253</td>\n",
              "      <td>0.130760</td>\n",
              "      <td>-0.018195</td>\n",
              "      <td>0.081521</td>\n",
              "      <td>0.065434</td>\n",
              "      <td>1.000000</td>\n",
              "      <td>0.066039</td>\n",
              "      <td>0.074538</td>\n",
              "    </tr>\n",
              "    <tr>\n",
              "      <th>availability_365</th>\n",
              "      <td>-0.035875</td>\n",
              "      <td>0.018592</td>\n",
              "      <td>-0.012369</td>\n",
              "      <td>-0.001732</td>\n",
              "      <td>0.083435</td>\n",
              "      <td>-0.112482</td>\n",
              "      <td>0.002105</td>\n",
              "      <td>-0.017996</td>\n",
              "      <td>0.066039</td>\n",
              "      <td>1.000000</td>\n",
              "      <td>-0.019569</td>\n",
              "    </tr>\n",
              "    <tr>\n",
              "      <th>number_of_reviews_ltm</th>\n",
              "      <td>0.040991</td>\n",
              "      <td>-0.032505</td>\n",
              "      <td>-0.022782</td>\n",
              "      <td>0.005117</td>\n",
              "      <td>0.043841</td>\n",
              "      <td>-0.083395</td>\n",
              "      <td>0.594128</td>\n",
              "      <td>0.539062</td>\n",
              "      <td>0.074538</td>\n",
              "      <td>-0.019569</td>\n",
              "      <td>1.000000</td>\n",
              "    </tr>\n",
              "  </tbody>\n",
              "</table>\n",
              "</div>\n",
              "      <button class=\"colab-df-convert\" onclick=\"convertToInteractive('df-7da442b0-950a-4c7b-8b23-814e68ca4b96')\"\n",
              "              title=\"Convert this dataframe to an interactive table.\"\n",
              "              style=\"display:none;\">\n",
              "        \n",
              "  <svg xmlns=\"http://www.w3.org/2000/svg\" height=\"24px\"viewBox=\"0 0 24 24\"\n",
              "       width=\"24px\">\n",
              "    <path d=\"M0 0h24v24H0V0z\" fill=\"none\"/>\n",
              "    <path d=\"M18.56 5.44l.94 2.06.94-2.06 2.06-.94-2.06-.94-.94-2.06-.94 2.06-2.06.94zm-11 1L8.5 8.5l.94-2.06 2.06-.94-2.06-.94L8.5 2.5l-.94 2.06-2.06.94zm10 10l.94 2.06.94-2.06 2.06-.94-2.06-.94-.94-2.06-.94 2.06-2.06.94z\"/><path d=\"M17.41 7.96l-1.37-1.37c-.4-.4-.92-.59-1.43-.59-.52 0-1.04.2-1.43.59L10.3 9.45l-7.72 7.72c-.78.78-.78 2.05 0 2.83L4 21.41c.39.39.9.59 1.41.59.51 0 1.02-.2 1.41-.59l7.78-7.78 2.81-2.81c.8-.78.8-2.07 0-2.86zM5.41 20L4 18.59l7.72-7.72 1.47 1.35L5.41 20z\"/>\n",
              "  </svg>\n",
              "      </button>\n",
              "      \n",
              "  <style>\n",
              "    .colab-df-container {\n",
              "      display:flex;\n",
              "      flex-wrap:wrap;\n",
              "      gap: 12px;\n",
              "    }\n",
              "\n",
              "    .colab-df-convert {\n",
              "      background-color: #E8F0FE;\n",
              "      border: none;\n",
              "      border-radius: 50%;\n",
              "      cursor: pointer;\n",
              "      display: none;\n",
              "      fill: #1967D2;\n",
              "      height: 32px;\n",
              "      padding: 0 0 0 0;\n",
              "      width: 32px;\n",
              "    }\n",
              "\n",
              "    .colab-df-convert:hover {\n",
              "      background-color: #E2EBFA;\n",
              "      box-shadow: 0px 1px 2px rgba(60, 64, 67, 0.3), 0px 1px 3px 1px rgba(60, 64, 67, 0.15);\n",
              "      fill: #174EA6;\n",
              "    }\n",
              "\n",
              "    [theme=dark] .colab-df-convert {\n",
              "      background-color: #3B4455;\n",
              "      fill: #D2E3FC;\n",
              "    }\n",
              "\n",
              "    [theme=dark] .colab-df-convert:hover {\n",
              "      background-color: #434B5C;\n",
              "      box-shadow: 0px 1px 3px 1px rgba(0, 0, 0, 0.15);\n",
              "      filter: drop-shadow(0px 1px 2px rgba(0, 0, 0, 0.3));\n",
              "      fill: #FFFFFF;\n",
              "    }\n",
              "  </style>\n",
              "\n",
              "      <script>\n",
              "        const buttonEl =\n",
              "          document.querySelector('#df-7da442b0-950a-4c7b-8b23-814e68ca4b96 button.colab-df-convert');\n",
              "        buttonEl.style.display =\n",
              "          google.colab.kernel.accessAllowed ? 'block' : 'none';\n",
              "\n",
              "        async function convertToInteractive(key) {\n",
              "          const element = document.querySelector('#df-7da442b0-950a-4c7b-8b23-814e68ca4b96');\n",
              "          const dataTable =\n",
              "            await google.colab.kernel.invokeFunction('convertToInteractive',\n",
              "                                                     [key], {});\n",
              "          if (!dataTable) return;\n",
              "\n",
              "          const docLinkHtml = 'Like what you see? Visit the ' +\n",
              "            '<a target=\"_blank\" href=https://colab.research.google.com/notebooks/data_table.ipynb>data table notebook</a>'\n",
              "            + ' to learn more about interactive tables.';\n",
              "          element.innerHTML = '';\n",
              "          dataTable['output_type'] = 'display_data';\n",
              "          await google.colab.output.renderOutput(dataTable, element);\n",
              "          const docLink = document.createElement('div');\n",
              "          docLink.innerHTML = docLinkHtml;\n",
              "          element.appendChild(docLink);\n",
              "        }\n",
              "      </script>\n",
              "    </div>\n",
              "  </div>\n",
              "  "
            ],
            "text/plain": [
              "                                      id  ...  number_of_reviews_ltm\n",
              "id                              1.000000  ...               0.040991\n",
              "host_id                         0.583142  ...              -0.032505\n",
              "latitude                        0.019319  ...              -0.022782\n",
              "longitude                       0.007622  ...               0.005117\n",
              "price                          -0.035485  ...               0.043841\n",
              "minimum_nights                 -0.044030  ...              -0.083395\n",
              "number_of_reviews              -0.392671  ...               0.594128\n",
              "reviews_per_month               0.214275  ...               0.539062\n",
              "calculated_host_listings_count  0.020651  ...               0.074538\n",
              "availability_365               -0.035875  ...              -0.019569\n",
              "number_of_reviews_ltm           0.040991  ...               1.000000\n",
              "\n",
              "[11 rows x 11 columns]"
            ]
          },
          "metadata": {},
          "execution_count": 31
        }
      ]
    },
    {
      "cell_type": "code",
      "source": [
        "#criar um heatmap a partir da matriz de correlação \n",
        "plt.matshow(df_clean.corr())"
      ],
      "metadata": {
        "colab": {
          "base_uri": "https://localhost:8080/",
          "height": 292
        },
        "id": "9OpWfLarEG1u",
        "outputId": "65ad4a8f-903d-483d-fefc-767ec92ecfb3"
      },
      "execution_count": 53,
      "outputs": [
        {
          "output_type": "execute_result",
          "data": {
            "text/plain": [
              "<matplotlib.image.AxesImage at 0x7fe2341b3d50>"
            ]
          },
          "metadata": {},
          "execution_count": 53
        },
        {
          "output_type": "display_data",
          "data": {
            "image/png": "[encoded data removed]",
            "text/plain": [
              "<Figure size 288x288 with 1 Axes>"
            ]
          },
          "metadata": {
            "needs_background": "light"
          }
        }
      ]
    },
    {
      "cell_type": "markdown",
      "source": [
        "### **Q7.Qual o tipo de imovel mais alugado?** "
      ],
      "metadata": {
        "id": "MVxOUIGMEq6G"
      }
    },
    {
      "cell_type": "code",
      "source": [
        "#mostrar a quantidade de cada imovel disponivel \n",
        "df_clean.room_type.value_counts()"
      ],
      "metadata": {
        "colab": {
          "base_uri": "https://localhost:8080/"
        },
        "id": "aeKr0i17Ekha",
        "outputId": "008576be-60e3-4878-ab3b-eda39cbd750d"
      },
      "execution_count": 54,
      "outputs": [
        {
          "output_type": "execute_result",
          "data": {
            "text/plain": [
              "Entire home/apt    7124\n",
              "Private room       3485\n",
              "Hotel room          334\n",
              "Shared room         105\n",
              "Name: room_type, dtype: int64"
            ]
          },
          "metadata": {},
          "execution_count": 54
        }
      ]
    },
    {
      "cell_type": "code",
      "source": [
        "#mostrar a porcentagem de cada imovel disponivel \n",
        "df_clean.room_type.value_counts() / df.shape[0]*100"
      ],
      "metadata": {
        "colab": {
          "base_uri": "https://localhost:8080/"
        },
        "id": "5ROd2sOA-iJ3",
        "outputId": "3dde8a7a-02f9-4c26-a35e-a05a65500830"
      },
      "execution_count": 55,
      "outputs": [
        {
          "output_type": "execute_result",
          "data": {
            "text/plain": [
              "Entire home/apt    59.022370\n",
              "Private room       28.873239\n",
              "Hotel room          2.767191\n",
              "Shared room         0.869925\n",
              "Name: room_type, dtype: float64"
            ]
          },
          "metadata": {},
          "execution_count": 55
        }
      ]
    },
    {
      "cell_type": "markdown",
      "source": [
        "### **Q8. Qual a localidade mais cara do dataset?**\n",
        "\n",
        "Silivri é a localidade mais cara do dataset, com a média de preços em 712 liras turcas\n"
      ],
      "metadata": {
        "id": "OfKZ5wxA_dRv"
      }
    },
    {
      "cell_type": "code",
      "source": [
        "\n",
        "#ver preços por bairro, na media\n",
        "df_clean.groupby(['neighbourhood']).price.mean().sort_values(ascending = False)"
      ],
      "metadata": {
        "colab": {
          "base_uri": "https://localhost:8080/"
        },
        "id": "IIUz74TO_Cmc",
        "outputId": "f972a417-edf2-4579-a762-1c0ca9791ea6"
      },
      "execution_count": 56,
      "outputs": [
        {
          "output_type": "execute_result",
          "data": {
            "text/plain": [
              "neighbourhood\n",
              "Silivri          724.428571\n",
              "Basaksehir       649.883117\n",
              "Sile             641.632653\n",
              "Adalar           581.892857\n",
              "Buyukcekmece     510.380952\n",
              "Beylikduzu       503.250000\n",
              "Umraniye         497.494737\n",
              "Beyoglu          493.590839\n",
              "Sisli            484.143846\n",
              "Besiktas         481.703102\n",
              "Zeytinburnu      469.583333\n",
              "Bagcilar         465.848000\n",
              "Bakirkoy         464.500000\n",
              "Fatih            464.264286\n",
              "Eyup             460.652174\n",
              "Catalca          446.666667\n",
              "Beykoz           422.951220\n",
              "Esenyurt         421.510638\n",
              "Gaziosmanpasa    418.722222\n",
              "Atasehir         413.281081\n",
              "Avcilar          413.024691\n",
              "Tuzla            407.225806\n",
              "Sariyer          404.238532\n",
              "Sultanbeyli      388.250000\n",
              "Kartal           380.482759\n",
              "Kagithane        376.000000\n",
              "Bahcelievler     373.302326\n",
              "Kadikoy          368.319672\n",
              "Esenler          362.125000\n",
              "Arnavutkoy       358.040816\n",
              "Uskudar          348.627049\n",
              "Maltepe          334.673611\n",
              "Bayrampasa       331.777778\n",
              "Pendik           325.376238\n",
              "Gungoren         310.823529\n",
              "Sultangazi       300.166667\n",
              "Kucukcekmece     299.283333\n",
              "Sancaktepe       287.812500\n",
              "Cekmekoy         228.875000\n",
              "Name: price, dtype: float64"
            ]
          },
          "metadata": {},
          "execution_count": 56
        }
      ]
    },
    {
      "cell_type": "code",
      "source": [
        "#ver quantidade de imoveis em Silivri\n",
        "print(df_clean[df_clean.neighbourhood == \"Silivri\"].shape)\n",
        "\n",
        "#ver quantidade de imoveis em Basaksehir\n",
        "print(df_clean[df_clean.neighbourhood == \"Basaksehir\"].shape)"
      ],
      "metadata": {
        "colab": {
          "base_uri": "https://localhost:8080/"
        },
        "id": "gh_DW4HwZ2KM",
        "outputId": "c5c3ab00-164d-4d63-d1a6-d115b2c2c7b4"
      },
      "execution_count": 57,
      "outputs": [
        {
          "output_type": "stream",
          "name": "stdout",
          "text": [
            "(14, 15)\n",
            "(77, 15)\n"
          ]
        }
      ]
    },
    {
      "cell_type": "markdown",
      "source": [
        "### **Gráfico baseado na latitude e longitude em relação ao preço**"
      ],
      "metadata": {
        "id": "uoNnSXmCEEws"
      }
    },
    {
      "cell_type": "code",
      "source": [
        "#plotar os imóveis pela latitude e longitude \n",
        "df_clean.plot(kind=\"scatter\", x='longitude',y='latitude',alpha=0.4, c=df_clean['price'], \n",
        "              s=8, cmap=plt.get_cmap('jet'), figsize=(12,8));\n"
      ],
      "metadata": {
        "colab": {
          "base_uri": "https://localhost:8080/",
          "height": 469
        },
        "id": "sjyt34Z0Af1V",
        "outputId": "385a16d1-009e-4bc9-adcb-d5bcc2cbb742"
      },
      "execution_count": 58,
      "outputs": [
        {
          "output_type": "display_data",
          "data": {
            "image/png": "[encoded data removed]",
            "text/plain": [
              "<Figure size 864x576 with 2 Axes>"
            ]
          },
          "metadata": {
            "needs_background": "light"
          }
        }
      ]
    },
    {
      "cell_type": "code",
      "source": [
        "### **Q9. Qual a media do minimo de noites \n",
        "df_clean.minimum_nights.median()"
      ],
      "metadata": {
        "colab": {
          "base_uri": "https://localhost:8080/"
        },
        "id": "8T1tal9BFiIQ",
        "outputId": "80eebe81-dd91-4d02-b83e-898a8d53e2b5"
      },
      "execution_count": 59,
      "outputs": [
        {
          "output_type": "execute_result",
          "data": {
            "text/plain": [
              "2.0"
            ]
          },
          "metadata": {},
          "execution_count": 59
        }
      ]
    },
    {
      "cell_type": "markdown",
      "source": [
        "## **Conclusão** "
      ],
      "metadata": {
        "id": "Ch2RzAqBLfMt"
      }
    },
    {
      "cell_type": "markdown",
      "source": [
        "Com a análise feita é possivel ter informações sobre a hospedagem em Istambul, como as localidades mais caras para passar a noite, a quantidade media minima de noites, e um mapa de calor que mostra onde se encontra os imóveis e seus respectivos valores medios. \n",
        "\n",
        "* Foi constatado que existiam valores ausentes e outliers. Foram limpos para um melhor aproveitamento dos dados\n",
        "\n",
        "* Silivri e Basaksehir são os bairros mais caros, com média de precos de 724 e 649 liras, respectivamente. Mas a média de alugueis pela cidade de Istambul é de 460 liras turcas\n"
      ],
      "metadata": {
        "id": "EgXnR280jAtp"
      }
    },
    {
      "cell_type": "code",
      "source": [
        ""
      ],
      "metadata": {
        "id": "Nfs_HUeSKahP"
      },
      "execution_count": 59,
      "outputs": []
    }
  ]
}